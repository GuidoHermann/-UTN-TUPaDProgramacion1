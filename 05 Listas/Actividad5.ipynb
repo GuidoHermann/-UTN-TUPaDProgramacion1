{
 "cells": [
  {
   "cell_type": "markdown",
   "id": "b0a560d6",
   "metadata": {},
   "source": [
    "<h1 style=\"color:#004080; text-align:center;\">\n",
    "  TRABAJO PRÁCTICO N°5\n",
    "</h1>\n",
    "<h2 style=\"color:#0066cc; text-align:center;\">\n",
    "  Programación 1\n",
    "</h2>\n",
    "<h3 style=\"color:#555; text-align:center;\">\n",
    "  UTN Virtual\n",
    "</h3>\n",
    "<p style=\"text-align:center;\">\n",
    "  <strong>Guido Hermann Alzogaray</strong>\n",
    "</p>"
   ]
  },
  {
   "cell_type": "markdown",
   "id": "b8d1d3da",
   "metadata": {},
   "source": [
    "1) Crear una lista con las notas de 10 estudiantes. \n",
    "• Mostrar la lista completa. \n",
    "• Calcular y mostrar el promedio. \n",
    "• Indicar la nota más alta y la más baja."
   ]
  },
  {
   "cell_type": "code",
   "execution_count": 3,
   "id": "c2398b5a",
   "metadata": {},
   "outputs": [
    {
     "name": "stdout",
     "output_type": "stream",
     "text": [
      "Notas de los estudiantes: \n",
      "7\n",
      "5\n",
      "9\n",
      "10\n",
      "6\n",
      "8\n",
      "4\n",
      "7\n",
      "9\n",
      "5\n",
      "El promedio de las notas es:  7.0\n",
      "La nota mas alta es:  10\n",
      "La nota mas baja es:  10\n"
     ]
    }
   ],
   "source": [
    "\n",
    "notas = [7, 5, 9, 10, 6, 8, 4, 7, 9, 5]\n",
    "\n",
    "print(\"Notas de los estudiantes: \")\n",
    "\n",
    "for nota in notas:\n",
    "    print (nota)\n",
    "\n",
    "suma = 0\n",
    "\n",
    "for nota in notas:\n",
    "    suma += nota\n",
    "\n",
    "promedio = suma / len(notas)\n",
    "\n",
    "print(\"El promedio de las notas es: \", promedio)\n",
    "\n",
    "nota_max = notas[0]\n",
    "nota_min = notas[0]\n",
    "\n",
    "for nota in notas:\n",
    "    if nota > nota_max:\n",
    "        nota_max = nota\n",
    "    if nota < nota_min:\n",
    "        nota_min = nota\n",
    "\n",
    "print(\"La nota mas alta es: \", nota_max)\n",
    "print(\"La nota mas baja es: \", nota_max)"
   ]
  }
 ],
 "metadata": {
  "kernelspec": {
   "display_name": "Python 3",
   "language": "python",
   "name": "python3"
  },
  "language_info": {
   "codemirror_mode": {
    "name": "ipython",
    "version": 3
   },
   "file_extension": ".py",
   "mimetype": "text/x-python",
   "name": "python",
   "nbconvert_exporter": "python",
   "pygments_lexer": "ipython3",
   "version": "3.13.5"
  }
 },
 "nbformat": 4,
 "nbformat_minor": 5
}
