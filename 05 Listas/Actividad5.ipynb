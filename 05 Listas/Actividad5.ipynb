{
 "cells": [
  {
   "cell_type": "markdown",
   "id": "b0a560d6",
   "metadata": {},
   "source": [
    "<h1 style=\"color:#004080; text-align:center;\">\n",
    "  TRABAJO PRÁCTICO N°5\n",
    "</h1>\n",
    "<h2 style=\"color:#0066cc; text-align:center;\">\n",
    "  Programación 1\n",
    "</h2>\n",
    "<h3 style=\"color:#555; text-align:center;\">\n",
    "  UTN Virtual\n",
    "</h3>\n",
    "<p style=\"text-align:center;\">\n",
    "  <strong>Guido Hermann Alzogaray</strong>\n",
    "</p>"
   ]
  },
  {
   "cell_type": "markdown",
   "id": "b8d1d3da",
   "metadata": {},
   "source": [
    "1) Crear una lista con las notas de 10 estudiantes. \n",
    "• Mostrar la lista completa. \n",
    "• Calcular y mostrar el promedio. \n",
    "• Indicar la nota más alta y la más baja."
   ]
  },
  {
   "cell_type": "code",
   "execution_count": null,
   "id": "c2398b5a",
   "metadata": {},
   "outputs": [],
   "source": [
    "\n",
    "notas = [7, 5, 9, 10, 6, 8, 4, 7, 9, 5]\n",
    "\n",
    "print(\"Notas de los estudiantes: \")\n",
    "\n",
    "for nota in notas:\n",
    "    print (nota)\n",
    "\n",
    "suma = 0\n",
    "\n",
    "for nota in notas:\n",
    "    suma += nota\n",
    "\n",
    "promedio = suma / len(notas)\n",
    "\n",
    "print(\"El promedio de las notas es: \", promedio)\n",
    "\n",
    "nota_max = notas[0]\n",
    "nota_min = notas[0]\n",
    "\n",
    "for nota in notas:\n",
    "    if nota > nota_max:\n",
    "        nota_max = nota\n",
    "    if nota < nota_min:\n",
    "        nota_min = nota\n",
    "\n",
    "print(\"La nota mas alta es: \", nota_max)\n",
    "print(\"La nota mas baja es: \", nota_max)"
   ]
  },
  {
   "cell_type": "markdown",
   "id": "158a82b2",
   "metadata": {},
   "source": [
    "2) Pedir al usuario que cargue 5 productos en una lista.\n",
    "• Mostrar la lista ordenada alfabéticamente. Investigue el uso del método sorted().\n",
    "• Preguntar al usuario qué producto desea eliminar y actualizar la lista.\n"
   ]
  },
  {
   "cell_type": "code",
   "execution_count": null,
   "id": "1012f180",
   "metadata": {},
   "outputs": [],
   "source": [
    "\n",
    "productos = []\n",
    "\n",
    "for i in range(5):\n",
    "    producto = input(f\"Ingrese un producto {i+1}: \")\n",
    "    productos.append(producto)\n",
    "\n",
    "print(\"Lista ordenada: \")\n",
    "\n",
    "for prod in sorted(productos):\n",
    "    print(prod)\n",
    "\n",
    "eliminar = input(\"Ingrese el producto a eliminar: \")\n",
    "\n",
    "if eliminar in productos:\n",
    "    productos.remove(eliminar)\n",
    "    print(\"Producto elminado.\")\n",
    "    print(\"Lista actualizada: \")\n",
    "    for prod in productos:\n",
    "        print(prod)\n",
    "else:\n",
    "    print(\"El producto no esta en la lista.\")"
   ]
  },
  {
   "cell_type": "markdown",
   "id": "35cf646a",
   "metadata": {},
   "source": [
    "3) Generar una lista con 15 números enteros al azar entre 1 y 100.\n",
    "• Crear una lista con los pares y otra con los impares.\n",
    "• Mostrar cuántos números tiene cada lista."
   ]
  },
  {
   "cell_type": "code",
   "execution_count": null,
   "id": "0083efea",
   "metadata": {},
   "outputs": [],
   "source": [
    "import random\n",
    "\n",
    "numeros = []\n",
    "for i in range(15):\n",
    "    num = random.randint(1, 100)\n",
    "    numeros.append(num)\n",
    "\n",
    "pares = []\n",
    "impares = []\n",
    "\n",
    "for n in numeros:\n",
    "    if n % 2 == 0:\n",
    "        pares.append(n)\n",
    "    else:\n",
    "        impares.append(n)\n",
    "\n",
    "print(\"Cantidad de pares: \", len(pares))\n",
    "print(\"Cantidad de impares: \", len(impares))"
   ]
  }
 ],
 "metadata": {
  "kernelspec": {
   "display_name": "Python 3",
   "language": "python",
   "name": "python3"
  },
  "language_info": {
   "codemirror_mode": {
    "name": "ipython",
    "version": 3
   },
   "file_extension": ".py",
   "mimetype": "text/x-python",
   "name": "python",
   "nbconvert_exporter": "python",
   "pygments_lexer": "ipython3",
   "version": "3.13.5"
  }
 },
 "nbformat": 4,
 "nbformat_minor": 5
}
