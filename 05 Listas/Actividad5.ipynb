{
 "cells": [
  {
   "cell_type": "markdown",
   "id": "b0a560d6",
   "metadata": {},
   "source": [
    "<h1 style=\"color:#004080; text-align:center;\">\n",
    "  TRABAJO PRÁCTICO N°5\n",
    "</h1>\n",
    "<h2 style=\"color:#0066cc; text-align:center;\">\n",
    "  Programación 1\n",
    "</h2>\n",
    "<h3 style=\"color:#555; text-align:center;\">\n",
    "  UTN Virtual\n",
    "</h3>\n",
    "<p style=\"text-align:center;\">\n",
    "  <strong>Guido Hermann Alzogaray</strong>\n",
    "</p>"
   ]
  },
  {
   "cell_type": "markdown",
   "id": "b8d1d3da",
   "metadata": {},
   "source": [
    "1) Crear una lista con las notas de 10 estudiantes. \n",
    "• Mostrar la lista completa. \n",
    "• Calcular y mostrar el promedio. \n",
    "• Indicar la nota más alta y la más baja."
   ]
  },
  {
   "cell_type": "code",
   "execution_count": null,
   "id": "c2398b5a",
   "metadata": {},
   "outputs": [],
   "source": [
    "\n",
    "notas = [7, 5, 9, 10, 6, 8, 4, 7, 9, 5]\n",
    "\n",
    "print(\"Notas de los estudiantes: \")\n",
    "\n",
    "for nota in notas:\n",
    "    print (nota)\n",
    "\n",
    "suma = 0\n",
    "\n",
    "for nota in notas:\n",
    "    suma += nota\n",
    "\n",
    "promedio = suma / len(notas)\n",
    "\n",
    "print(\"El promedio de las notas es: \", promedio)\n",
    "\n",
    "nota_max = notas[0]\n",
    "nota_min = notas[0]\n",
    "\n",
    "for nota in notas:\n",
    "    if nota > nota_max:\n",
    "        nota_max = nota\n",
    "    if nota < nota_min:\n",
    "        nota_min = nota\n",
    "\n",
    "print(\"La nota mas alta es: \", nota_max)\n",
    "print(\"La nota mas baja es: \", nota_max)"
   ]
  },
  {
   "cell_type": "markdown",
   "id": "158a82b2",
   "metadata": {},
   "source": [
    "2) Pedir al usuario que cargue 5 productos en una lista.\n",
    "• Mostrar la lista ordenada alfabéticamente. Investigue el uso del método sorted().\n",
    "• Preguntar al usuario qué producto desea eliminar y actualizar la lista.\n"
   ]
  },
  {
   "cell_type": "code",
   "execution_count": null,
   "id": "1012f180",
   "metadata": {},
   "outputs": [],
   "source": [
    "\n",
    "productos = []\n",
    "\n",
    "for i in range(5):\n",
    "    producto = input(f\"Ingrese un producto {i+1}: \")\n",
    "    productos.append(producto)\n",
    "\n",
    "print(\"Lista ordenada: \")\n",
    "\n",
    "for prod in sorted(productos):\n",
    "    print(prod)\n",
    "\n",
    "eliminar = input(\"Ingrese el producto a eliminar: \")\n",
    "\n",
    "if eliminar in productos:\n",
    "    productos.remove(eliminar)\n",
    "    print(\"Producto elminado.\")\n",
    "    print(\"Lista actualizada: \")\n",
    "    for prod in productos:\n",
    "        print(prod)\n",
    "else:\n",
    "    print(\"El producto no esta en la lista.\")"
   ]
  },
  {
   "cell_type": "markdown",
   "id": "35cf646a",
   "metadata": {},
   "source": [
    "3) Generar una lista con 15 números enteros al azar entre 1 y 100.\n",
    "• Crear una lista con los pares y otra con los impares.\n",
    "• Mostrar cuántos números tiene cada lista."
   ]
  },
  {
   "cell_type": "code",
   "execution_count": null,
   "id": "0083efea",
   "metadata": {},
   "outputs": [],
   "source": [
    "import random\n",
    "\n",
    "numeros = []\n",
    "for i in range(15):\n",
    "    num = random.randint(1, 100)\n",
    "    numeros.append(num)\n",
    "\n",
    "pares = []\n",
    "impares = []\n",
    "\n",
    "for n in numeros:\n",
    "    if n % 2 == 0:\n",
    "        pares.append(n)\n",
    "    else:\n",
    "        impares.append(n)\n",
    "\n",
    "print(\"Cantidad de pares: \", len(pares))\n",
    "print(\"Cantidad de impares: \", len(impares))"
   ]
  },
  {
   "cell_type": "markdown",
   "id": "2c9fb625",
   "metadata": {},
   "source": [
    "4) Dada una lista con valores repetidos:\n",
    "Datos = [1, 3, 5, 3, 7, 1, 9, 5, 3]\n",
    "• Crear una nueva lista sin elementos repetidos.\n",
    "• Mostrar el resultado."
   ]
  },
  {
   "cell_type": "code",
   "execution_count": null,
   "id": "c00589c7",
   "metadata": {},
   "outputs": [],
   "source": [
    "datos = [1, 3, 5, 3, 7, 1, 9, 5, 3]\n",
    "\n",
    "sin_repetir = []\n",
    "\n",
    "for dato in datos:\n",
    "    if dato not in sin_repetir:\n",
    "        sin_repetir.append(dato)\n",
    "\n",
    "print(\"Lista original: \")\n",
    "for d in datos:\n",
    "    print(d)\n",
    "\n",
    "print(\"Lista sin repetidos: \")\n",
    "for s in sin_repetir:\n",
    "    print(s)"
   ]
  },
  {
   "cell_type": "markdown",
   "id": "a2d77f94",
   "metadata": {},
   "source": [
    "5) Crear una lista con los nombres de 8 estudiantes presentes en clase.\n",
    "• Preguntar al usuario si quiere agregar un nuevo estudiante o eliminar uno existente.\n",
    "• Mostrar la lista final actualizada.\n"
   ]
  },
  {
   "cell_type": "code",
   "execution_count": null,
   "id": "d59fc3aa",
   "metadata": {},
   "outputs": [],
   "source": [
    "estudiantes = [\"Guido\", \"Juan\", \"Franco\", \"Jazmin\", \"Gabriela\", \"Brenda\", \"Diego\", \"Cristian\", \"Pedro\", \"Lionel\"]\n",
    "\n",
    "print(\"Lista de estudiantes: \")\n",
    "\n",
    "for est in estudiantes:\n",
    "    print(est)\n",
    "\n",
    "opcion = input(\"Deseas agregar un estudiante o eliminar\".lower())\n",
    "\n",
    "if opcion == \"agregar\":\n",
    "    nuevo = input(\"Ingrese el nombre del nuevo estudiante: \")\n",
    "    estudiantes.append(nuevo)\n",
    "    print(f\"Se agrego {nuevo} a la lista\")\n",
    "\n",
    "elif opcion == \"eliminar\":\n",
    "    eliminar = input(\"Ingrese el nombre a elminar: \")\n",
    "    if eliminar in estudiantes:\n",
    "        estudiantes.remove(eliminar)\n",
    "        print(f\"Se elimino a {eliminar}\")\n",
    "    else:\n",
    "        print(\"El estudiante no esta en la lista\")\n",
    "\n",
    "else:\n",
    "    print(\"Opcion no valida\")\n",
    "\n",
    "print(\"Lista final\")\n",
    "\n",
    "for est in estudiantes:\n",
    "    print(est)"
   ]
  },
  {
   "cell_type": "markdown",
   "id": "eb1f695a",
   "metadata": {},
   "source": [
    "6) Dada una lista con 7 números, rotar todos los elementos una posición hacia la derecha (el\n",
    "último pasa a ser el primero)."
   ]
  },
  {
   "cell_type": "code",
   "execution_count": null,
   "id": "8d2b7fc0",
   "metadata": {},
   "outputs": [],
   "source": [
    "numeros = [10, 20, 30, 40, 50, 60, 70]\n",
    "\n",
    "print(\"Lista original\")\n",
    "for n in numeros:\n",
    "    print(n)\n",
    "\n",
    "ultimo = numeros[-1]\n",
    "\n",
    "for i in range(len(numeros) -1, 0, -1):\n",
    "    numeros[i] = numeros[i-1]\n",
    "\n",
    "numeros [0] = ultimo\n",
    "\n",
    "print(\"Lista rotada\")\n",
    "\n",
    "for n in numeros:\n",
    "    print(n)"
   ]
  },
  {
   "cell_type": "markdown",
   "id": "6c5d79c4",
   "metadata": {},
   "source": [
    "7) Crear una matriz (lista anidada) de 7x2 con las temperaturas mínimas y máximas de una\n",
    "semana.\n",
    "• Calcular el promedio de las mínimas y el de las máximas.\n",
    "• Mostrar en qué día se registró la mayor amplitud térmica.\n"
   ]
  },
  {
   "cell_type": "code",
   "execution_count": null,
   "id": "c8409ec6",
   "metadata": {},
   "outputs": [],
   "source": [
    "temperaturas = [[12, 25],[14, 28],[11, 26],[13, 27],[15, 29],[10, 24],[12, 30]]\n",
    "\n",
    "dias = [\"Lunes\", \"Martes\", \"Miércoles\", \"Jueves\", \"Viernes\", \"Sábado\", \"Domingo\"]\n",
    "\n",
    "suma_min = 0\n",
    "suma_max = 0\n",
    "\n",
    "mayor_amplitud = 0\n",
    "dia_mayor_amplitud = 0\n",
    "\n",
    "for i in range(len(temperaturas)):\n",
    "    min_temp = temperaturas[i][0]\n",
    "    max_temp = temperaturas[i][1]\n",
    "\n",
    "    suma_min += min_temp\n",
    "    suma_max += max_temp\n",
    "\n",
    "    amplitud = max_temp - min_temp\n",
    "    if amplitud > mayor_amplitud:\n",
    "        mayor_amplitud = amplitud\n",
    "        dia_mayor_amplitud = i\n",
    "\n",
    "promedio_min = suma_min / len(temperaturas)\n",
    "promedio_max = suma_max / len(temperaturas)\n",
    "\n",
    "print(\"Temperaturas por dia\")\n",
    "\n",
    "for i in range(len(temperaturas)):\n",
    "    print(f\"{dias[i]}: Minima {temperaturas[i][0]} Grados, Maxima {temperaturas[i][1]} Grados\")\n",
    "\n",
    "print(\"Promedio minimo:\", {promedio_min})\n",
    "print(\"Promedio maximo:\", {promedio_max})\n",
    "print(\"Mayor amplitud\",{mayor_amplitud})\n",
    "print(\"Ocurrio en el dia\", {dias[dia_mayor_amplitud]})"
   ]
  },
  {
   "cell_type": "markdown",
   "id": "32a8b610",
   "metadata": {},
   "source": [
    "8) Crear una matriz con las notas de 5 estudiantes en 3 materias.\n",
    "• Mostrar el promedio de cada estudiante.\n",
    "• Mostrar el promedio de cada materia.\n"
   ]
  },
  {
   "cell_type": "code",
   "execution_count": null,
   "id": "b96d67eb",
   "metadata": {},
   "outputs": [],
   "source": [
    "notas = [\n",
    "    [7, 8, 9],   \n",
    "    [6, 7, 8],   \n",
    "    [9, 8, 10],  \n",
    "    [5, 6, 7],   \n",
    "    [8, 9, 7]]    \n",
    "\n",
    "estudiantes = [\"Estudiante 1\", \"Estudiante 2\", \"Estudiante 3\", \"Estudiante 4\", \"Estudiante 5\"]\n",
    "materias = [\"Matematica\", \"Historia\", \"Lengua\"]\n",
    "\n",
    "\n",
    "print(\"Promedio de cada estudiante:\")\n",
    "for i in range(len(notas)):\n",
    "    promedio_est = sum(notas[i]) / len(notas[i])\n",
    "    print(f\"{estudiantes[i]}: {promedio_est}\")\n",
    "\n",
    "\n",
    "print(\"Promedio de cada materia:\")\n",
    "for j in range(len(materias)):\n",
    "    suma_materia = 0\n",
    "    for i in range(len(notas)):\n",
    "        suma_materia += notas[i][j]\n",
    "    promedio_materia = suma_materia / len(notas)\n",
    "    print(f\"{materias[j]}: {promedio_materia}\")\n"
   ]
  }
 ],
 "metadata": {
  "kernelspec": {
   "display_name": "Python 3",
   "language": "python",
   "name": "python3"
  },
  "language_info": {
   "codemirror_mode": {
    "name": "ipython",
    "version": 3
   },
   "file_extension": ".py",
   "mimetype": "text/x-python",
   "name": "python",
   "nbconvert_exporter": "python",
   "pygments_lexer": "ipython3",
   "version": "3.13.5"
  }
 },
 "nbformat": 4,
 "nbformat_minor": 5
}
