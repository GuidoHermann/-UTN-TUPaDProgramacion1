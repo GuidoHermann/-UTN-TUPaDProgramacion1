{
 "cells": [
  {
   "cell_type": "markdown",
   "id": "9c1431ba",
   "metadata": {},
   "source": [
    "<h1 style=\"color:#004080; text-align:center;\">\n",
    "  TRABAJO PRÁCTICO N°7\n",
    "</h1>\n",
    "<h2 style=\"color:#0066cc; text-align:center;\">\n",
    "  Programación 1\n",
    "</h2>\n",
    "<h3 style=\"color:#555; text-align:center;\">\n",
    "  UTN Virtual\n",
    "</h3>\n",
    "<p style=\"text-align:center;\">\n",
    "  <strong>Guido Hermann Alzogaray</strong>\n",
    "</p>"
   ]
  },
  {
   "cell_type": "markdown",
   "id": "c5ca4821",
   "metadata": {},
   "source": [
    "1) Dado el diccionario precios_frutas\n",
    "precios_frutas = {'Banana': 1200, 'Ananá': 2500, 'Melón': 3000, 'Uva':\n",
    "1450}\n",
    "Añadir las siguientes frutas con sus respectivos precios:\n",
    "● Naranja = 1200\n",
    "● Manzana = 1500\n",
    "● Pera = 2300\n"
   ]
  },
  {
   "cell_type": "code",
   "execution_count": null,
   "id": "404950f9",
   "metadata": {},
   "outputs": [],
   "source": [
    "precios_frutas = {  'Banana': 1200,\n",
    "                    'Ananá': 2500,\n",
    "                    'Melón': 3000,\n",
    "                    'Uva': 1450}\n",
    "precios_frutas.update({'Naranja': 1200,\n",
    "                       'Manzana': 1500,\n",
    "                       'Pera': 2300})\n",
    "\n",
    "print(precios_frutas)"
   ]
  },
  {
   "cell_type": "markdown",
   "id": "63db6d8a",
   "metadata": {},
   "source": [
    "2) Siguiendo con el diccionario precios_frutas que resulta luego de ejecutar el código\n",
    "desarrollado en el punto anterior, actualizar los precios de las siguientes frutas:\n",
    "● Banana = 1330\n",
    "● Manzana = 1700\n",
    "● Melón = 2800\n"
   ]
  },
  {
   "cell_type": "code",
   "execution_count": null,
   "id": "5ab2dde8",
   "metadata": {},
   "outputs": [],
   "source": [
    "precios_frutas = {  'Banana': 1200,\n",
    "                    'Ananá': 2500,\n",
    "                    'Melón': 3000,\n",
    "                    'Uva': 1450}\n",
    "\n",
    "precios_frutas.update({'Naranja': 1200,\n",
    "                       'Manzana': 1500,\n",
    "                       'Pera': 2300})\n",
    "\n",
    "precios_frutas.update({'Banana': 1330,\n",
    "                       'Manzana': 1700,\n",
    "                       'Melón': 2800})\n",
    "\n",
    "print(precios_frutas)"
   ]
  },
  {
   "cell_type": "markdown",
   "id": "00f48841",
   "metadata": {},
   "source": [
    "3) Siguiendo con el diccionario precios_frutas que resulta luego de ejecutar el código\n",
    "desarrollado en el punto anterior, crear una lista que contenga únicamente las frutas sin los\n",
    "precios."
   ]
  },
  {
   "cell_type": "code",
   "execution_count": null,
   "id": "a445327b",
   "metadata": {},
   "outputs": [],
   "source": [
    "precios_frutas = {  'Banana': 1200,\n",
    "                    'Ananá': 2500,\n",
    "                    'Melón': 3000,\n",
    "                    'Uva': 1450}\n",
    "\n",
    "precios_frutas.update({'Naranja': 1200,\n",
    "                       'Manzana': 1500,\n",
    "                       'Pera': 2300})\n",
    "\n",
    "precios_frutas.update({'Banana': 1330,\n",
    "                       'Manzana': 1700,\n",
    "                       'Melón': 2800})\n",
    "\n",
    "lista_frutas = list(precios_frutas.keys())\n",
    "\n",
    "print(lista_frutas)"
   ]
  },
  {
   "cell_type": "markdown",
   "id": "f93f126e",
   "metadata": {},
   "source": [
    "4) Escribí un programa que permita almacenar y consultar números telefónicos.\n",
    "• Permití al usuario cargar 5 contactos con su nombre como clave y número como valor.\n",
    "• Luego, pedí un nombre y mostrale el número asociado, si existe."
   ]
  },
  {
   "cell_type": "code",
   "execution_count": null,
   "id": "abd3c47b",
   "metadata": {},
   "outputs": [],
   "source": [
    "contactos = {}\n",
    "\n",
    "for i in range(5):\n",
    "    nombre = input(f\"Ingresa el nombre del contacto {i+1}: \")\n",
    "    numero = input(f\"Ingresa el numero telefonico de {nombre}: \")\n",
    "    contactos[nombre] = numero\n",
    "\n",
    "print(\"\\n Contactos cargados\")\n",
    "print(contactos)\n",
    "\n",
    "nombre_buscar = input(\"Ingresa el nombre del contacto que queres buscar: \")\n",
    "\n",
    "if nombre_buscar in contactos:\n",
    "    print(f\"El numero de {nombre_buscar} es: {contactos[nombre_buscar]}\")\n",
    "else:\n",
    "    print(F\"No existe un contacto con el nombre '{nombre_buscar}'\")"
   ]
  }
 ],
 "metadata": {
  "kernelspec": {
   "display_name": "Python 3",
   "language": "python",
   "name": "python3"
  },
  "language_info": {
   "codemirror_mode": {
    "name": "ipython",
    "version": 3
   },
   "file_extension": ".py",
   "mimetype": "text/x-python",
   "name": "python",
   "nbconvert_exporter": "python",
   "pygments_lexer": "ipython3",
   "version": "3.13.5"
  }
 },
 "nbformat": 4,
 "nbformat_minor": 5
}
