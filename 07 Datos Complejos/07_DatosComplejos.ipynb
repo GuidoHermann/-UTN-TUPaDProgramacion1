{
 "cells": [
  {
   "cell_type": "markdown",
   "id": "9c1431ba",
   "metadata": {},
   "source": [
    "<h1 style=\"color:#004080; text-align:center;\">\n",
    "  TRABAJO PRÁCTICO N°7\n",
    "</h1>\n",
    "<h2 style=\"color:#0066cc; text-align:center;\">\n",
    "  Programación 1\n",
    "</h2>\n",
    "<h3 style=\"color:#555; text-align:center;\">\n",
    "  UTN Virtual\n",
    "</h3>\n",
    "<p style=\"text-align:center;\">\n",
    "  <strong>Guido Hermann Alzogaray</strong>\n",
    "</p>"
   ]
  },
  {
   "cell_type": "markdown",
   "id": "c5ca4821",
   "metadata": {},
   "source": [
    "1) Dado el diccionario precios_frutas\n",
    "precios_frutas = {'Banana': 1200, 'Ananá': 2500, 'Melón': 3000, 'Uva':\n",
    "1450}\n",
    "Añadir las siguientes frutas con sus respectivos precios:\n",
    "● Naranja = 1200\n",
    "● Manzana = 1500\n",
    "● Pera = 2300\n"
   ]
  },
  {
   "cell_type": "code",
   "execution_count": null,
   "id": "404950f9",
   "metadata": {},
   "outputs": [],
   "source": [
    "precios_frutas = {  'Banana': 1200,\n",
    "                    'Ananá': 2500,\n",
    "                    'Melón': 3000,\n",
    "                    'Uva': 1450}\n",
    "precios_frutas.update({'Naranja': 1200,\n",
    "                       'Manzana': 1500,\n",
    "                       'Pera': 2300})\n",
    "\n",
    "print(precios_frutas)"
   ]
  },
  {
   "cell_type": "markdown",
   "id": "63db6d8a",
   "metadata": {},
   "source": [
    "2) Siguiendo con el diccionario precios_frutas que resulta luego de ejecutar el código\n",
    "desarrollado en el punto anterior, actualizar los precios de las siguientes frutas:\n",
    "● Banana = 1330\n",
    "● Manzana = 1700\n",
    "● Melón = 2800\n"
   ]
  },
  {
   "cell_type": "code",
   "execution_count": null,
   "id": "5ab2dde8",
   "metadata": {},
   "outputs": [],
   "source": [
    "precios_frutas = {  'Banana': 1200,\n",
    "                    'Ananá': 2500,\n",
    "                    'Melón': 3000,\n",
    "                    'Uva': 1450}\n",
    "\n",
    "precios_frutas.update({'Naranja': 1200,\n",
    "                       'Manzana': 1500,\n",
    "                       'Pera': 2300})\n",
    "\n",
    "precios_frutas.update({'Banana': 1330,\n",
    "                       'Manzana': 1700,\n",
    "                       'Melón': 2800})\n",
    "\n",
    "print(precios_frutas)"
   ]
  },
  {
   "cell_type": "markdown",
   "id": "00f48841",
   "metadata": {},
   "source": [
    "3) Siguiendo con el diccionario precios_frutas que resulta luego de ejecutar el código\n",
    "desarrollado en el punto anterior, crear una lista que contenga únicamente las frutas sin los\n",
    "precios."
   ]
  },
  {
   "cell_type": "code",
   "execution_count": null,
   "id": "a445327b",
   "metadata": {},
   "outputs": [],
   "source": [
    "precios_frutas = {  'Banana': 1200,\n",
    "                    'Ananá': 2500,\n",
    "                    'Melón': 3000,\n",
    "                    'Uva': 1450}\n",
    "\n",
    "precios_frutas.update({'Naranja': 1200,\n",
    "                       'Manzana': 1500,\n",
    "                       'Pera': 2300})\n",
    "\n",
    "precios_frutas.update({'Banana': 1330,\n",
    "                       'Manzana': 1700,\n",
    "                       'Melón': 2800})\n",
    "\n",
    "lista_frutas = list(precios_frutas.keys())\n",
    "\n",
    "print(lista_frutas)"
   ]
  },
  {
   "cell_type": "markdown",
   "id": "f93f126e",
   "metadata": {},
   "source": [
    "4) Escribí un programa que permita almacenar y consultar números telefónicos.\n",
    "• Permití al usuario cargar 5 contactos con su nombre como clave y número como valor.\n",
    "• Luego, pedí un nombre y mostrale el número asociado, si existe."
   ]
  },
  {
   "cell_type": "code",
   "execution_count": null,
   "id": "abd3c47b",
   "metadata": {},
   "outputs": [],
   "source": [
    "contactos = {}\n",
    "\n",
    "for i in range(5):\n",
    "    nombre = input(f\"Ingresa el nombre del contacto {i+1}: \")\n",
    "    numero = input(f\"Ingresa el numero telefonico de {nombre}: \")\n",
    "    contactos[nombre] = numero\n",
    "\n",
    "print(\"\\n Contactos cargados\")\n",
    "print(contactos)\n",
    "\n",
    "nombre_buscar = input(\"Ingresa el nombre del contacto que queres buscar: \")\n",
    "\n",
    "if nombre_buscar in contactos:\n",
    "    print(f\"El numero de {nombre_buscar} es: {contactos[nombre_buscar]}\")\n",
    "else:\n",
    "    print(F\"No existe un contacto con el nombre '{nombre_buscar}'\")"
   ]
  },
  {
   "cell_type": "markdown",
   "id": "89c19d0c",
   "metadata": {},
   "source": [
    "5) Solicita al usuario una frase e imprime:\n",
    "• Las palabras únicas (usando un set).\n",
    "• Un diccionario con la cantidad de veces que aparece cada palabra."
   ]
  },
  {
   "cell_type": "code",
   "execution_count": null,
   "id": "6677bb8d",
   "metadata": {},
   "outputs": [],
   "source": [
    "frase = input(\"Ingresa una frase: \")\n",
    "\n",
    "palabras = frase.split()\n",
    "\n",
    "palabras_unicas = set(palabras)\n",
    "\n",
    "recuento = {}\n",
    "\n",
    "for palabra in palabras:\n",
    "    if palabra in recuento:\n",
    "        recuento[palabra] += 1\n",
    "    else:\n",
    "        recuento[palabra] = 1\n",
    "\n",
    "print(\"Palabras unicas: \", palabras_unicas)\n",
    "print(\"Recuento: \", recuento)\n",
    "\n",
    "\n"
   ]
  },
  {
   "cell_type": "markdown",
   "id": "c86ec1e0",
   "metadata": {},
   "source": [
    "6) Permití ingresar los nombres de 3 alumnos, y para cada uno una tupla de 3 notas.\n",
    "Luego, mostrá el promedio de cada alumno."
   ]
  },
  {
   "cell_type": "code",
   "execution_count": null,
   "id": "ecea33e7",
   "metadata": {},
   "outputs": [],
   "source": [
    "alumnos = {}\n",
    "\n",
    "for i in range(3):\n",
    "    nombre = input(F\"ingresa el nombre del alumno{i+1}: \")\n",
    "\n",
    "    notas = input(f\"Ingresa las 3 notas de {nombre}, separadas por espacio: \")\n",
    "\n",
    "    notas = tuple(map(int, notas.split()))\n",
    "\n",
    "    alumnos[nombre] = notas\n",
    "\n",
    "print(\"Promedio de cada alunno\")\n",
    "for nombre, notas in alumnos.items():\n",
    "    promedio = sum(notas) / len(notas)\n",
    "    print(f\"{nombre}: {promedio}\")"
   ]
  },
  {
   "cell_type": "markdown",
   "id": "197502a4",
   "metadata": {},
   "source": [
    "7) Dado dos sets de números, representando dos listas de estudiantes que aprobaron Parcial 1\n",
    "y Parcial 2:\n",
    "• Mostrá los que aprobaron ambos parciales.\n",
    "• Mostrá los que aprobaron solo uno de los dos.\n",
    "• Mostrá la lista total de estudiantes que aprobaron al menos un parcial (sin repetir).\n"
   ]
  },
  {
   "cell_type": "code",
   "execution_count": null,
   "id": "7aa6d472",
   "metadata": {},
   "outputs": [],
   "source": [
    "parcial1 = {\"Ana\", \"Luis\", \"Sofia\", \"Juan\"} \n",
    "parcial2 = {\"Sofia\", \"Marcos\", \"Juan\", \"Lucia\"}\n",
    "\n",
    "ambos = parcial1 & parcial2\n",
    "\n",
    "solo_uno = parcial1 ^ parcial2\n",
    "\n",
    "al_menos_uno = parcial1 | parcial2\n",
    "\n",
    "print(\"Aprobaron ambos parciales: \", ambos)\n",
    "print(\"Aprobaron solo uno: \", solo_uno)\n",
    "print(\"Aprobaron al menos uno: \", al_menos_uno)"
   ]
  },
  {
   "cell_type": "markdown",
   "id": "1d0f6c73",
   "metadata": {},
   "source": [
    "8) Armá un diccionario donde las claves sean nombres de productos y los valores su stock.\n",
    "Permití al usuario:\n",
    "• Consultar el stock de un producto ingresado.\n",
    "• Agregar unidades al stock si el producto ya existe.\n",
    "• Agregar un nuevo producto si no existe."
   ]
  },
  {
   "cell_type": "code",
   "execution_count": null,
   "id": "581d72fb",
   "metadata": {},
   "outputs": [],
   "source": [
    "\n",
    "productos = {\n",
    "    \"Arroz\": 10,\n",
    "    \"Fideos\": 20,\n",
    "    \"Azúcar\": 15\n",
    "}\n",
    "\n",
    "\n",
    "print(\"Stock actual:\")\n",
    "print(productos)\n",
    "\n",
    "\n",
    "producto = input(\"\\nIngresá el nombre del producto: \")\n",
    "\n",
    "\n",
    "if producto in productos:\n",
    "    print(f\"El producto '{producto}' existe. Stock actual: {productos[producto]} unidades.\")\n",
    "    \n",
    "    \n",
    "    agregar = input(\"¿Querés agregar unidades? (s/n): \").lower()\n",
    "    if agregar == \"s\":\n",
    "        cantidad = int(input(\"¿Cuántas unidades querés agregar?: \"))\n",
    "        productos[producto] += cantidad\n",
    "        print(f\"Nuevo stock de '{producto}': {productos[producto]} unidades.\")\n",
    "    else:\n",
    "        print(\"No se realizaron cambios en el stock.\")\n",
    "\n",
    "else:\n",
    "    print(f\"El producto '{producto}' no existe en el inventario.\")\n",
    "    agregar_nuevo = input(\"¿Querés agregarlo? (s/n): \").lower()\n",
    "    if agregar_nuevo == \"s\":\n",
    "        cantidad = int(input(\"Ingresá la cantidad inicial de stock: \"))\n",
    "        productos[producto] = cantidad\n",
    "        print(f\"Producto '{producto}' agregado con {cantidad} unidades.\")\n",
    "    else:\n",
    "        print(\"No se agregó el producto.\")\n",
    "\n",
    "\n",
    "print(\"\\nStock final actualizado:\")\n",
    "print(productos)\n"
   ]
  }
 ],
 "metadata": {
  "kernelspec": {
   "display_name": "Python 3",
   "language": "python",
   "name": "python3"
  },
  "language_info": {
   "codemirror_mode": {
    "name": "ipython",
    "version": 3
   },
   "file_extension": ".py",
   "mimetype": "text/x-python",
   "name": "python",
   "nbconvert_exporter": "python",
   "pygments_lexer": "ipython3",
   "version": "3.13.5"
  }
 },
 "nbformat": 4,
 "nbformat_minor": 5
}
