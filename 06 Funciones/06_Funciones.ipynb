{
 "cells": [
  {
   "cell_type": "markdown",
   "id": "f59add26",
   "metadata": {},
   "source": [
    "<h1 style=\"color:#004080; text-align:center;\">\n",
    "  TRABAJO PRÁCTICO N°6\n",
    "</h1>\n",
    "<h2 style=\"color:#0066cc; text-align:center;\">\n",
    "  Programación 1\n",
    "</h2>\n",
    "<h3 style=\"color:#555; text-align:center;\">\n",
    "  UTN Virtual\n",
    "</h3>\n",
    "<p style=\"text-align:center;\">\n",
    "  <strong>Guido Hermann Alzogaray</strong>\n",
    "</p>"
   ]
  },
  {
   "cell_type": "markdown",
   "id": "d7059960",
   "metadata": {},
   "source": [
    "1. Crear una función llamada imprimir_hola_mundo que imprima por\n",
    "pantalla el mensaje: “Hola Mundo!”. Llamar a esta función desde el\n",
    "programa principal.\n"
   ]
  },
  {
   "cell_type": "code",
   "execution_count": null,
   "id": "3f3245df",
   "metadata": {},
   "outputs": [],
   "source": [
    "def hola_mundo():\n",
    "    print(\"Hola mundo\")\n",
    "\n",
    "hola_mundo()"
   ]
  },
  {
   "cell_type": "markdown",
   "id": "883dc914",
   "metadata": {},
   "source": [
    "2. Crear una función llamada saludar_usuario(nombre) que reciba\n",
    "como parámetro un nombre y devuelva un saludo personalizado.\n",
    "Por ejemplo, si se llama con saludar_usuario(\"Marcos\"), deberá devolver: “Hola Marcos!”. Llamar a esta función desde el programa\n",
    "principal solicitando el nombre al usuario.\n"
   ]
  },
  {
   "cell_type": "code",
   "execution_count": null,
   "id": "376a2617",
   "metadata": {},
   "outputs": [],
   "source": [
    "def saludar_usario(nombre):\n",
    "    return f\"hola {nombre}!\"\n",
    "\n",
    "nombre_ingresado = input(\"Ingresa tu nombre\")\n",
    "saludo = saludar_usario(nombre_ingresado)\n",
    "print(saludo)\n"
   ]
  },
  {
   "cell_type": "markdown",
   "id": "c8167d8a",
   "metadata": {},
   "source": [
    "3. Crear una función llamada informacion_personal(nombre, apellido,\n",
    "edad, residencia) que reciba cuatro parámetros e imprima: “Soy\n",
    "[nombre] [apellido], tengo [edad] años y vivo en [residencia]”. Pedir los datos al usuario y llamar a esta función con los valores ingresados.\n"
   ]
  },
  {
   "cell_type": "code",
   "execution_count": null,
   "id": "4f815ce4",
   "metadata": {},
   "outputs": [],
   "source": [
    "def informacion_personal(nombre, apellido, edad, residencia):\n",
    "    print(f\"Soy {nombre} {apellido}, tengo {edad} años y vivo en {residencia}.\")\n",
    "\n",
    "nombre = input(\"Ingrese su nombre\")\n",
    "apellido = input(\"Ingrese su apellido\")\n",
    "edad = input(\"ingrese su edad: \")\n",
    "residencia = input(\"ingresa donde vivis: \")\n",
    "\n",
    "informacion_personal(nombre, apellido, edad, residencia)"
   ]
  },
  {
   "cell_type": "markdown",
   "id": "f6999f76",
   "metadata": {},
   "source": [
    "4. Crear dos funciones: calcular_area_circulo(radio) que reciba el radio como parámetro y devuelva el área del círculo. calcular_perimetro_circulo(radio) que reciba el radio como parámetro y devuelva el perímetro del círculo. Solicitar el radio al usuario y llamar ambas funciones para mostrar los resultados."
   ]
  },
  {
   "cell_type": "code",
   "execution_count": null,
   "id": "4e52338f",
   "metadata": {},
   "outputs": [],
   "source": [
    "import math\n",
    "\n",
    "def calcular_area_circulo(radio):\n",
    "    return math.pi * (radio ** 2)\n",
    "\n",
    "def calcular_perimetro_circulo(radio):\n",
    "    return 2 * math.pi * radio\n",
    "\n",
    "radio = float(input(\"Ingrese el radio del circulo: \"))\n",
    "\n",
    "area = calcular_area_circulo(radio)\n",
    "perimetro = calcular_perimetro_circulo(radio)\n",
    "\n",
    "print(f\"El area del circulo es: {area}\")\n",
    "print(f\"El perimetro del area es: {perimetro}\")\n"
   ]
  },
  {
   "cell_type": "markdown",
   "id": "6a6461dc",
   "metadata": {},
   "source": [
    "5. Crear una función llamada segundos_a_horas(segundos) que reciba\n",
    "una cantidad de segundos como parámetro y devuelva la cantidad\n",
    "de horas correspondientes. Solicitar al usuario los segundos y mostrar el resultado usando esta función.\n"
   ]
  },
  {
   "cell_type": "code",
   "execution_count": null,
   "id": "70a3cfae",
   "metadata": {},
   "outputs": [],
   "source": [
    "def segundos_a_horas(segundos):\n",
    "    return segundos / 3600\n",
    "\n",
    "segundos = int(input(\"Ingrese la cantidad de segundos\"))\n",
    "horas = segundos_a_horas(segundos)\n",
    "\n",
    "print(f\"Tus {segundos} segundos equivalen a {horas} horas\")"
   ]
  },
  {
   "cell_type": "markdown",
   "id": "f0a6845e",
   "metadata": {},
   "source": [
    "6. Crear una función llamada tabla_multiplicar(numero) que reciba un\n",
    "número como parámetro y imprima la tabla de multiplicar de ese\n",
    "número del 1 al 10. Pedir al usuario el número y llamar a la función.\n"
   ]
  },
  {
   "cell_type": "code",
   "execution_count": null,
   "id": "86274e2e",
   "metadata": {},
   "outputs": [],
   "source": [
    "def tabla_multiplicar(numero):\n",
    "    for i in range(1, 11):\n",
    "        print(f\"{numero} x {i} = {numero * i}\")\n",
    "\n",
    "numero = int(input(\"Ingrese un numero para multiplicar\"))\n",
    "\n",
    "tabla_multiplicar(numero)"
   ]
  },
  {
   "cell_type": "markdown",
   "id": "7fb57e08",
   "metadata": {},
   "source": [
    "7. Crear una función llamada operaciones_basicas(a, b) que reciba\n",
    "dos números como parámetros y devuelva una tupla con el resultado de sumarlos, restarlos, multiplicarlos y dividirlos. Mostrar los resultados de forma clara."
   ]
  },
  {
   "cell_type": "code",
   "execution_count": null,
   "id": "874d73db",
   "metadata": {},
   "outputs": [],
   "source": [
    "def operaciones_basicas(a, b):\n",
    "    suma = a + b\n",
    "    resta = a - b\n",
    "    multiplicacion = a * b\n",
    "    division = a / b\n",
    "    return(suma, resta, multiplicacion, division)\n",
    "\n",
    "a = float(input(\"Ingrese el primer valor: \"))\n",
    "b = float(input(\"Ingrese el segundo valor: \"))\n",
    "\n",
    "resultados = operaciones_basicas(a, b)\n",
    "\n",
    "print(f\"Suma: {resultados[0]}\")\n",
    "print(f\"Resta: {resultados[1]}\")\n",
    "print(f\"Multiplicacion: {resultados[2]}\")\n",
    "print(f\"Division: {resultados[3]}\")"
   ]
  },
  {
   "cell_type": "markdown",
   "id": "0842f553",
   "metadata": {},
   "source": [
    "8. Crear una función llamada calcular_imc(peso, altura) que reciba el\n",
    "peso en kilogramos y la altura en metros, y devuelva el índice de\n",
    "masa corporal (IMC). Solicitar al usuario los datos y llamar a la función para mostrar el resultado con dos decimales.\n"
   ]
  },
  {
   "cell_type": "code",
   "execution_count": null,
   "id": "b367ecf2",
   "metadata": {},
   "outputs": [],
   "source": [
    "def calcular_imc(peso, altura):\n",
    "    return peso / (altura ** 2)\n",
    "\n",
    "peso = float(input(\"Ingrese su peso en kilogramos: \"))\n",
    "altura = float(input(\"Ingrese su altura en metros: \"))\n",
    "\n",
    "imc = calcular_imc(peso, altura)\n",
    "print(f\"Tu indice IMC es: {imc}\")"
   ]
  }
 ],
 "metadata": {
  "kernelspec": {
   "display_name": "Python 3",
   "language": "python",
   "name": "python3"
  },
  "language_info": {
   "codemirror_mode": {
    "name": "ipython",
    "version": 3
   },
   "file_extension": ".py",
   "mimetype": "text/x-python",
   "name": "python",
   "nbconvert_exporter": "python",
   "pygments_lexer": "ipython3",
   "version": "3.13.5"
  }
 },
 "nbformat": 4,
 "nbformat_minor": 5
}
