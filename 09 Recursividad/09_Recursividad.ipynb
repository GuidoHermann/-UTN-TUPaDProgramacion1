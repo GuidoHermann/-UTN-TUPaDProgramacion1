{
 "cells": [
  {
   "cell_type": "markdown",
   "id": "35e3ff39",
   "metadata": {},
   "source": [
    "<h1 style=\"color:#004080; text-align:center;\">\n",
    "  TRABAJO PRÁCTICO N°9\n",
    "</h1>\n",
    "<h2 style=\"color:#0066cc; text-align:center;\">\n",
    "  Programación 1\n",
    "</h2>\n",
    "<h3 style=\"color:#555; text-align:center;\">\n",
    "  UTN Virtual\n",
    "</h3>\n",
    "<p style=\"text-align:center;\">\n",
    "  <strong>Guido Hermann Alzogaray</strong>\n",
    "</p>"
   ]
  },
  {
   "cell_type": "markdown",
   "id": "98c4f4a3",
   "metadata": {},
   "source": [
    "1) Crea una función recursiva que calcule el factorial de un número. Luego, utiliza esa\n",
    "función para calcular y mostrar en pantalla el factorial de todos los números enteros\n",
    "entre 1 y el número que indique el usuario"
   ]
  },
  {
   "cell_type": "code",
   "execution_count": null,
   "id": "b210eccd",
   "metadata": {},
   "outputs": [],
   "source": [
    "def factorial(n):\n",
    "    if n == 0 or n == 1:\n",
    "        return 1\n",
    "    else:\n",
    "        return n * factorial(n-1)\n",
    "    \n",
    "num = int(input(\"Ingrese un numero entero positovo\"))\n",
    "\n",
    "for i in range(1, num + 1):\n",
    "    print(f\"{i}! = {factorial(i)}\")"
   ]
  },
  {
   "cell_type": "markdown",
   "id": "25dea232",
   "metadata": {},
   "source": [
    "2) Crea una función recursiva que calcule el valor de la serie de Fibonacci en la posición\n",
    "indicada. Posteriormente, muestra la serie completa hasta la posición que el usuario\n",
    "especifique."
   ]
  },
  {
   "cell_type": "code",
   "execution_count": null,
   "id": "883be6c7",
   "metadata": {},
   "outputs": [],
   "source": [
    "def fibonacci(n):\n",
    "    if n == 0:\n",
    "        return 0\n",
    "    elif n == 1:\n",
    "        return 1\n",
    "    else:\n",
    "        return fibonacci(n - 1) + fibonacci(n - 2)\n",
    "    \n",
    "num = int(input(\"Ingrese hasta que posicion desea mostrar la serie de fibonacci\"))\n",
    "\n",
    "print(f\"Serie de fibonacci hasta la posicion {num}: \")\n",
    "\n",
    "for i in range(num + 1):\n",
    "    print(f\"F({i}) = {fibonacci(i)}\")"
   ]
  },
  {
   "cell_type": "markdown",
   "id": "8f3a41ba",
   "metadata": {},
   "source": [
    "3) Crea una función recursiva que calcule la potencia de un número base elevado a un\n",
    "exponente, utilizando la fórmula 𝑛\n",
    "𝑚 = 𝑛 ∗ 𝑛\n",
    "(𝑚−1)\n",
    ". Prueba esta función en un\n",
    "algoritmo general."
   ]
  },
  {
   "cell_type": "code",
   "execution_count": null,
   "id": "fa483eca",
   "metadata": {},
   "outputs": [],
   "source": [
    "def potencia(base, exponente):\n",
    "    if exponente == 0:\n",
    "        return 1\n",
    "    else:\n",
    "        return base * potencia(base, exponente - 1)\n",
    "\n",
    "base = int(input(\"Ingrese la base: \"))\n",
    "exponente = int(input(\"Ingrese el exponente (Entero positivo): \"))\n",
    "\n",
    "resultado = potencia(base, exponente)\n",
    "\n",
    "print(f\"{base} elevado a la {exponente} es igual a : {resultado}\")"
   ]
  },
  {
   "cell_type": "markdown",
   "id": "a26331ef",
   "metadata": {},
   "source": [
    "4) Crear una función recursiva en Python que reciba un número entero positivo en base\n",
    "decimal y devuelva su representación en binario como una cadena de texto.\n"
   ]
  },
  {
   "cell_type": "code",
   "execution_count": null,
   "id": "113b4183",
   "metadata": {},
   "outputs": [],
   "source": [
    "def decimal_a_binario(n):\n",
    "    if n == 0:\n",
    "        return \"0\"\n",
    "    elif n == 1:\n",
    "        return \"1\"\n",
    "    else:\n",
    "        return decimal_a_binario(n // 2) + str(n % 2)\n",
    "    \n",
    "num = int(input(\"Ingrese un numero entero positivo: \"))\n",
    "\n",
    "if num < 0:\n",
    "    print(\"Debe ser un numero positivo.\")\n",
    "else:\n",
    "    binario = decimal_a_binario(num)\n",
    "    print(f\"El numero {num} en binario es: {binario}\")"
   ]
  }
 ],
 "metadata": {
  "kernelspec": {
   "display_name": "Python 3",
   "language": "python",
   "name": "python3"
  },
  "language_info": {
   "codemirror_mode": {
    "name": "ipython",
    "version": 3
   },
   "file_extension": ".py",
   "mimetype": "text/x-python",
   "name": "python",
   "nbconvert_exporter": "python",
   "pygments_lexer": "ipython3",
   "version": "3.13.5"
  }
 },
 "nbformat": 4,
 "nbformat_minor": 5
}
