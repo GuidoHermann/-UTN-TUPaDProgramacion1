{
 "cells": [
  {
   "cell_type": "markdown",
   "id": "35e3ff39",
   "metadata": {},
   "source": [
    "<h1 style=\"color:#004080; text-align:center;\">\n",
    "  TRABAJO PRÁCTICO N°9\n",
    "</h1>\n",
    "<h2 style=\"color:#0066cc; text-align:center;\">\n",
    "  Programación 1\n",
    "</h2>\n",
    "<h3 style=\"color:#555; text-align:center;\">\n",
    "  UTN Virtual\n",
    "</h3>\n",
    "<p style=\"text-align:center;\">\n",
    "  <strong>Guido Hermann Alzogaray</strong>\n",
    "</p>"
   ]
  },
  {
   "cell_type": "markdown",
   "id": "98c4f4a3",
   "metadata": {},
   "source": [
    "1) Crea una función recursiva que calcule el factorial de un número. Luego, utiliza esa\n",
    "función para calcular y mostrar en pantalla el factorial de todos los números enteros\n",
    "entre 1 y el número que indique el usuario"
   ]
  },
  {
   "cell_type": "code",
   "execution_count": null,
   "id": "b210eccd",
   "metadata": {},
   "outputs": [],
   "source": [
    "def factorial(n):\n",
    "    if n == 0 or n == 1:\n",
    "        return 1\n",
    "    else:\n",
    "        return n * factorial(n-1)\n",
    "    \n",
    "num = int(input(\"Ingrese un numero entero positovo\"))\n",
    "\n",
    "for i in range(1, num + 1):\n",
    "    print(f\"{i}! = {factorial(i)}\")"
   ]
  },
  {
   "cell_type": "markdown",
   "id": "25dea232",
   "metadata": {},
   "source": [
    "2) Crea una función recursiva que calcule el valor de la serie de Fibonacci en la posición\n",
    "indicada. Posteriormente, muestra la serie completa hasta la posición que el usuario\n",
    "especifique."
   ]
  },
  {
   "cell_type": "code",
   "execution_count": null,
   "id": "883be6c7",
   "metadata": {},
   "outputs": [],
   "source": [
    "def fibonacci(n):\n",
    "    if n == 0:\n",
    "        return 0\n",
    "    elif n == 1:\n",
    "        return 1\n",
    "    else:\n",
    "        return fibonacci(n - 1) + fibonacci(n - 2)\n",
    "    \n",
    "num = int(input(\"Ingrese hasta que posicion desea mostrar la serie de fibonacci\"))\n",
    "\n",
    "print(f\"Serie de fibonacci hasta la posicion {num}: \")\n",
    "\n",
    "for i in range(num + 1):\n",
    "    print(f\"F({i}) = {fibonacci(i)}\")"
   ]
  }
 ],
 "metadata": {
  "kernelspec": {
   "display_name": "Python 3",
   "language": "python",
   "name": "python3"
  },
  "language_info": {
   "codemirror_mode": {
    "name": "ipython",
    "version": 3
   },
   "file_extension": ".py",
   "mimetype": "text/x-python",
   "name": "python",
   "nbconvert_exporter": "python",
   "pygments_lexer": "ipython3",
   "version": "3.13.5"
  }
 },
 "nbformat": 4,
 "nbformat_minor": 5
}
