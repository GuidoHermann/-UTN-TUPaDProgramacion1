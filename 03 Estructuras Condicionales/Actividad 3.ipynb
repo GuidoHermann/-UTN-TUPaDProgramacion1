{
 "cells": [
  {
   "cell_type": "markdown",
   "id": "40979ab2",
   "metadata": {},
   "source": [
    "**<h1>Práctico 3: Estructuras condicionales<h1>**\n",
    "\n",
    "<span style=\"color:green; font-weight:bold\">Guido Hermann Alzogaray</span>\n",
    "\n",
    "TECNICATURA UNIVERSITARIA EN PROGRAMACION A DISTANCIA"
   ]
  },
  {
   "cell_type": "markdown",
   "id": "64ef4c6b",
   "metadata": {},
   "source": [
    "#### **Actividad 1**\n",
    "\n",
    "Escribir un programa que solicite la edad del usuario. Si el usuario es mayor de 18 años,\n",
    "deberá mostrar un mensaje en pantalla que diga “Es mayor de edad”.\n"
   ]
  },
  {
   "cell_type": "code",
   "execution_count": null,
   "id": "80713b90",
   "metadata": {},
   "outputs": [],
   "source": [
    "edad = int(input(\"Ingresa tu edad: \"))\n",
    "\n",
    "if edad > 18:\n",
    "    print(\"Sos mayor de edad\")\n"
   ]
  },
  {
   "cell_type": "markdown",
   "id": "15641b3f",
   "metadata": {},
   "source": [
    "#### **Actividad 2**\n",
    "\n",
    "Escribir un programa que solicite su nota al usuario. Si la nota es mayor o igual a 6, deberá\n",
    "mostrar por pantalla un mensaje que diga “Aprobado”; en caso contrario deberá mostrar el\n",
    "mensaje “Desaprobado”.\n"
   ]
  },
  {
   "cell_type": "code",
   "execution_count": null,
   "id": "78ba0950",
   "metadata": {},
   "outputs": [],
   "source": [
    "nota = int(input(\"Ingresa tu nota: \"))\n",
    "\n",
    "if nota >= 6:\n",
    "    print(\"Aprobado\")\n",
    "else:\n",
    "    print(\"Desaprobado\")"
   ]
  },
  {
   "cell_type": "markdown",
   "id": "e14500fd",
   "metadata": {},
   "source": [
    "#### **Actividad 3**\n",
    "\n",
    "Escribir un programa que permita ingresar solo números pares. Si el usuario ingresa un\n",
    "número par, imprimir por en pantalla el mensaje \"Ha ingresado un número par\"; en caso\n",
    "contrario, imprimir por pantalla \"Por favor, ingrese un número par\". Nota: investigar el uso del\n",
    "operador de módulo (%) en Python para evaluar si un número es par o impar."
   ]
  },
  {
   "cell_type": "code",
   "execution_count": null,
   "id": "4f823f67",
   "metadata": {},
   "outputs": [],
   "source": [
    "numero = int(input(\"Ingresa un numero: \"))\n",
    "\n",
    "if numero % 2 == 0:\n",
    "    print(\"Ha ingresado un numero par\")\n",
    "else:\n",
    "    print(\"Por favor, ingrese un numero par\")"
   ]
  },
  {
   "cell_type": "markdown",
   "id": "7b5098b6",
   "metadata": {},
   "source": [
    "#### **Actividad 4**\n",
    "\n",
    "Escribir un programa que solicite al usuario su edad e imprima por pantalla a cuál de las\n",
    "siguientes categorías pertenece:\n",
    "● Niño/a: menor de 12 años.\n",
    "● Adolescente: mayor o igual que 12 años y menor que 18 años.\n",
    "● Adulto/a joven: mayor o igual que 18 años y menor que 30 años.\n",
    "● Adulto/a: mayor o igual que 30 años.\n",
    "\n"
   ]
  },
  {
   "cell_type": "code",
   "execution_count": null,
   "id": "3d3328ed",
   "metadata": {},
   "outputs": [],
   "source": [
    "edad = int(input(\"Ingresa tu edad: \"))\n",
    "\n",
    "if edad < 12:\n",
    "    print(\"Eres un niño/a\")\n",
    "elif edad >= 12 and edad < 18:\n",
    "    print(\"Eres un adolescente\")\n",
    "elif edad >= 18 and edad < 30:\n",
    "    print(\"Eres un adulto/a joven\")\n",
    "elif edad >= 30:\n",
    "    print(\"Eres un adulto/a\")"
   ]
  },
  {
   "cell_type": "markdown",
   "id": "77512ca9",
   "metadata": {},
   "source": [
    "#### **Actividad 5**\n",
    "\n",
    "Escribir un programa que permita introducir contraseñas de entre 8 y 14 caracteres\n",
    "(incluyendo 8 y 14). Si el usuario ingresa una contraseña de longitud adecuada, imprimir por en\n",
    "pantalla el mensaje \"Ha ingresado una contraseña correcta\"; en caso contrario, imprimir por\n",
    "pantalla \"Por favor, ingrese una contraseña de entre 8 y 14 caracteres\". Nota: investigue el uso\n",
    "de la función len() en Python para evaluar la cantidad de elementos que tiene un iterable tal\n",
    "como una lista o un string.\n"
   ]
  },
  {
   "cell_type": "code",
   "execution_count": null,
   "id": "c67bf85e",
   "metadata": {},
   "outputs": [],
   "source": [
    "contraseña = input(\"Ingresa una contraseña: \")\n",
    "\n",
    "if len(contraseña) >= 8 and len(contraseña) <= 14:\n",
    "    print(\"Ha ingresado una contraseña correcta\")\n",
    "else:\n",
    "    print(\"Por favor, ingrese una contraseña de entre 8 y 14 caracteres\")"
   ]
  },
  {
   "cell_type": "markdown",
   "id": "fe617d02",
   "metadata": {},
   "source": [
    "#### **Actividad 6**\n",
    "\n",
    " El paquete statistics de python contiene funciones que permiten tomar una lista de números\n",
    "y calcular la moda, la mediana y la media de dichos números. Un ejemplo de su uso es el\n",
    "siguiente:\n",
    "from statistics import mode, median, mean\n",
    "mi_lista = [1,2,5,5,3]\n",
    "mean(mi_lista)\n",
    "En la documentación oficial se puede encontrar más información sobre este paquete:\n",
    "https://docs.python.org/es/3.8/library/statistics.html.\n",
    "La moda (mode), la mediana (median) y la media (mean) son parámetros estadísticos que se\n",
    "pueden utilizar para predecir la forma de una distribución normal a partir del siguiente criterio:\n",
    "● Sesgo positivo o a la derecha: cuando la media es mayor que la mediana y, a su vez, la\n",
    "mediana es mayor que la moda.\n",
    "● Sesgo negativo o a la izquierda: cuando la media es menor que la mediana y, a su vez,\n",
    "la mediana es menor que la moda.\n",
    "● Sin sesgo: cuando la media, la mediana y la moda son iguales.\n",
    "Teniendo en cuenta lo antes mencionado, escribir un programa que tome la lista\n",
    "numeros_aleatorios, calcule su moda, su mediana y su media y las compare para determinar si\n",
    "hay sesgo positivo, negativo o no hay sesgo. Imprimir el resultado por pantalla.\n",
    "Definir la lista numeros_aleatorios de la siguiente forma:\n",
    "import random\n",
    "numeros_aleatorios = [random.randint(1, 100) for i in range(50)]\n",
    "Nota: el bloque de código anterior crea una lista con 50 números entre 1 y 100 elegidos de\n",
    "forma aleatoria.\n"
   ]
  },
  {
   "cell_type": "code",
   "execution_count": null,
   "id": "33b54a8f",
   "metadata": {},
   "outputs": [],
   "source": [
    "import random\n",
    "from statistics import mode, median, mean\n",
    "\n",
    "numeros_aleatorios = [random.randint(1, 100) for i in range(50)]\n",
    "\n",
    "media = mean(numeros_aleatorios)\n",
    "mediana = median(numeros_aleatorios)\n",
    "moda = mode(numeros_aleatorios)\n",
    "\n",
    "print(\"Media:\", media)\n",
    "print(\"Mediana:\", mediana)\n",
    "print(\"Moda:\", moda)\n",
    "\n",
    "if media > mediana > moda:\n",
    "    print(\"Sesgo positivo o a la derecha\")\n",
    "elif media < mediana < moda:\n",
    "    print(\"sesgo negativo o a la izquierda\")\n",
    "elif media == mediana == moda:\n",
    "    print(\"Sin sesgo\")\n",
    "else:\n",
    "    print(\"No se puede determinar\")\n",
    "\n"
   ]
  },
  {
   "cell_type": "markdown",
   "id": "5170543c",
   "metadata": {},
   "source": [
    "#### **Actividad 7**\n",
    "\n",
    "Escribir un programa que solicite una frase o palabra al usuario. Si el string ingresado\n",
    "termina con vocal, añadir un signo de exclamación al final e imprimir el string resultante por\n",
    "pantalla; en caso contrario, dejar el string tal cual lo ingresó el usuario e imprimirlo por\n",
    "pantalla.\n"
   ]
  },
  {
   "cell_type": "code",
   "execution_count": null,
   "id": "c6b13e82",
   "metadata": {},
   "outputs": [],
   "source": [
    "frase = input(\"Ingrese una frase\")\n",
    "vocales = \"aeiouAEIOU\"\n",
    "ultimo_caracter = frase[-1]\n",
    "\n",
    "if ultimo_caracter in vocales:\n",
    "    frase_modificada = frase + \"!\"\n",
    "    print(frase_modificada)\n",
    "else:\n",
    "    print(frase)"
   ]
  },
  {
   "cell_type": "markdown",
   "id": "70c1dd70",
   "metadata": {},
   "source": [
    "#### **Actividad 8**\n",
    "\n",
    " Escribir un programa que solicite al usuario que ingrese su nombre y el número 1, 2 o 3\n",
    "dependiendo de la opción que desee:\n",
    "1. Si quiere su nombre en mayúsculas. Por ejemplo: PEDRO.\n",
    "2. Si quiere su nombre en minúsculas. Por ejemplo: pedro.\n",
    "3. Si quiere su nombre con la primera letra mayúscula. Por ejemplo: Pedro.\n",
    "El programa debe transformar el nombre ingresado de acuerdo a la opción seleccionada por el\n",
    "usuario e imprimir el resultado por pantalla. Nota: investigue uso de las funciones upper(),\n",
    "lower() y title() de Python para convertir entre mayúsculas y minúsculas.\n"
   ]
  },
  {
   "cell_type": "code",
   "execution_count": null,
   "id": "0c69308e",
   "metadata": {},
   "outputs": [],
   "source": [
    "nombre = input(\"Ingresa tu nombre: \")\n",
    "\n",
    "print (\"Elegi una opcion: \")\n",
    "print(\"1. Si quiere su nombre en mayúsculas. Por ejemplo: PEDRO.\")\n",
    "print(\"2. Si quiere su nombre en minúsculas. Por ejemplo: pedro.\")\n",
    "print(\"3. Si quiere su nombre con la primera letra mayúscula. Por ejemplo: Pedro.\")\n",
    "opcion = int(input(\"Ingrese el numero de tu opcion(1, 2 o 3): \"))\n",
    "\n",
    "if opcion == 1:\n",
    "    nombre_modificado = nombre.upper()\n",
    "    print(f\"Tu nombre en mayusculas es: {nombre_modificado}\")\n",
    "elif opcion == 2:\n",
    "    nombre_modificado = nombre.lower()\n",
    "    print(f\"Tu nombre es minisculas es: {nombre_modificado}\")\n",
    "elif opcion == 3:\n",
    "    nombre_modificado = nombre.title()\n",
    "    print(f\"Tu nombre con la primera letra mayuscula es: {nombre_modificado}\"  )\n",
    "else:\n",
    "    print(\"No ingresaste una opcion valida\")"
   ]
  },
  {
   "cell_type": "markdown",
   "id": "31dc873f",
   "metadata": {},
   "source": [
    "#### **Actividad 9**\n",
    "\n",
    "Escribir un programa que pida al usuario la magnitud de un terremoto, clasifique la\n",
    "magnitud en una de las siguientes categorías según la escala de Richter e imprima el resultado\n",
    "por pantalla:\n",
    "● Menor que 3: \"Muy leve\" (imperceptible).\n",
    "● Mayor o igual que 3 y menor que 4: \"Leve\" (ligeramente perceptible).\n",
    "● Mayor o igual que 4 y menor que 5: \"Moderado\" (sentido por personas, pero\n",
    "generalmente no causa daños).\n",
    "● Mayor o igual que 5 y menor que 6: \"Fuerte\" (puede causar daños en estructuras\n",
    "débiles).\n",
    "● Mayor o igual que 6 y menor que 7: \"Muy Fuerte\" (puede causar daños significativos).\n",
    "● Mayor o igual que 7: \"Extremo\" (puede causar graves daños a gran escala)."
   ]
  },
  {
   "cell_type": "code",
   "execution_count": null,
   "id": "e4eea3f6",
   "metadata": {},
   "outputs": [],
   "source": [
    "magnitud = int(input(\"Ingresa la magnitud del terremoto\"))\n",
    "\n",
    "if magnitud < 3:\n",
    "    print(\"Muy leve (Imperceptible)\")\n",
    "elif magnitud >= 3 and magnitud < 4:\n",
    "    print(\"Leve (Ligeramente perceptible)\")\n",
    "elif magnitud >= 4 and magnitud < 5:\n",
    "    print(\"Moderado(sentido por personas, pero generalmente no causa daños)\")\n",
    "elif magnitud >= 5 and magnitud < 6:\n",
    "    print(\"Fuerte(Puede causar daños en estructuras debiles)\")\n",
    "elif magnitud >= 6 and magnitud < 7:\n",
    "    print (\"Muy fuerte(puede causar daños significativos)\")\n",
    "elif magnitud >= 7:\n",
    "    (print(\"Extremo(puede causar graves daños a gran escala)\"))\n",
    "else:\n",
    "    print(\"No ingresaste una magnitud valida\")"
   ]
  },
  {
   "cell_type": "markdown",
   "id": "c1848ffa",
   "metadata": {},
   "source": [
    "#### **Actividad 10**\n",
    "\n",
    "Utilizando la información aportada en la siguiente tabla sobre las estaciones del año\n",
    "\n",
    "Escribir un programa que pregunte al usuario en cuál hemisferio se encuentra (N/S), qué mes\n",
    "del año es y qué día es. El programa deberá utilizar esa información para imprimir por pantalla\n",
    "si el usuario se encuentra en otoño, invierno, primavera o verano.\n"
   ]
  },
  {
   "cell_type": "code",
   "execution_count": null,
   "id": "e4213eaa",
   "metadata": {},
   "outputs": [],
   "source": [
    "hemisferio = input(\"En que hemisferio te encuentras? (N/S): \").upper()\n",
    "mes = int(input(\"Ingresa el mes en numero (1-12): \"))\n",
    "dia = int(input(\"Ingresa el dia del mes: \"))\n",
    "\n",
    "if(mes == 12 and dia >= 21) or (mes == 1) or (mes == 2) or (mes == 3 and dia <=20):\n",
    "    estacion_norte = \"Invierno\"\n",
    "    estacion_sur = \"Verano\"\n",
    "elif(mes == 3 and dia >= 21) or (mes == 4) or (mes == 5) or (mes == 6 and dia <=20):\n",
    "    estacion_norte = \"Primavera\"\n",
    "    estacion_sur = \"Otoño\"\n",
    "elif(mes == 6 and dia >= 21 ) or (mes == 7) or (mes == 8) or (mes == 9 and dia <=20):\n",
    "    estacion_norte = \"Verano\"\n",
    "    estacion_sur = \"Invierno\"\n",
    "elif(mes == 9 and dia >= 21) or (mes == 10) or (mes == 11) or (mes == 12 and dia <20):\n",
    "    estacion_norte = \"Otoño\"\n",
    "    estacion_sur = \"Primavera\"\n",
    "else:\n",
    "    estacion_norte = \"Fecha invilida\"\n",
    "    estacion_sur = \"Fecha invalida\"\n",
    "\n",
    "if hemisferio == \"N\":\n",
    "    print(\"Te encuentras en el hemisferio norte. Tu estacion es:\" + estacion_norte)\n",
    "elif hemisferio == \"S\":\n",
    "    print(\"Te encuentras en el hemisferio sur. Tu estacion es: \" + estacion_sur)\n",
    "else:\n",
    "    print(\"Hemisferio no valido\")"
   ]
  }
 ],
 "metadata": {
  "kernelspec": {
   "display_name": "Python 3",
   "language": "python",
   "name": "python3"
  },
  "language_info": {
   "codemirror_mode": {
    "name": "ipython",
    "version": 3
   },
   "file_extension": ".py",
   "mimetype": "text/x-python",
   "name": "python",
   "nbconvert_exporter": "python",
   "pygments_lexer": "ipython3",
   "version": "3.13.5"
  }
 },
 "nbformat": 4,
 "nbformat_minor": 5
}
