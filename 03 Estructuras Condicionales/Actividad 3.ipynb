{
 "cells": [
  {
   "cell_type": "markdown",
   "id": "40979ab2",
   "metadata": {},
   "source": [
    "**<h1>Práctico 3: Estructuras condicionales<h1>**\n",
    "\n",
    "<span style=\"color:green; font-weight:bold\">Guido Hermann Alzogaray</span>\n",
    "\n",
    "TECNICATURA UNIVERSITARIA EN PROGRAMACION A DISTANCIA"
   ]
  },
  {
   "cell_type": "markdown",
   "id": "64ef4c6b",
   "metadata": {},
   "source": [
    "#### **Actividad 1**\n",
    "\n",
    "Escribir un programa que solicite la edad del usuario. Si el usuario es mayor de 18 años,\n",
    "deberá mostrar un mensaje en pantalla que diga “Es mayor de edad”.\n"
   ]
  },
  {
   "cell_type": "code",
   "execution_count": null,
   "id": "80713b90",
   "metadata": {},
   "outputs": [],
   "source": [
    "edad = int(input(\"Ingresa tu edad: \"))\n",
    "\n",
    "if edad > 18:\n",
    "    print(\"Sos mayor de edad\")\n"
   ]
  },
  {
   "cell_type": "markdown",
   "id": "15641b3f",
   "metadata": {},
   "source": [
    "#### **Actividad 2**\n",
    "\n",
    "Escribir un programa que solicite su nota al usuario. Si la nota es mayor o igual a 6, deberá\n",
    "mostrar por pantalla un mensaje que diga “Aprobado”; en caso contrario deberá mostrar el\n",
    "mensaje “Desaprobado”.\n"
   ]
  },
  {
   "cell_type": "code",
   "execution_count": null,
   "id": "78ba0950",
   "metadata": {},
   "outputs": [],
   "source": [
    "nota = int(input(\"Ingresa tu nota: \"))\n",
    "\n",
    "if nota >= 6:\n",
    "    print(\"Aprobado\")\n",
    "else:\n",
    "    print(\"Desaprobado\")"
   ]
  },
  {
   "cell_type": "markdown",
   "id": "e14500fd",
   "metadata": {},
   "source": [
    "#### **Actividad 3**\n",
    "\n",
    "Escribir un programa que permita ingresar solo números pares. Si el usuario ingresa un\n",
    "número par, imprimir por en pantalla el mensaje \"Ha ingresado un número par\"; en caso\n",
    "contrario, imprimir por pantalla \"Por favor, ingrese un número par\". Nota: investigar el uso del\n",
    "operador de módulo (%) en Python para evaluar si un número es par o impar."
   ]
  },
  {
   "cell_type": "code",
   "execution_count": null,
   "id": "4f823f67",
   "metadata": {},
   "outputs": [],
   "source": [
    "numero = int(input(\"Ingresa un numero: \"))\n",
    "\n",
    "if numero % 2 == 0:\n",
    "    print(\"Ha ingresado un numero par\")\n",
    "else:\n",
    "    print(\"Por favor, ingrese un numero par\")"
   ]
  },
  {
   "cell_type": "markdown",
   "id": "7b5098b6",
   "metadata": {},
   "source": [
    "#### **Actividad 4**\n",
    "\n",
    "Escribir un programa que solicite al usuario su edad e imprima por pantalla a cuál de las\n",
    "siguientes categorías pertenece:\n",
    "● Niño/a: menor de 12 años.\n",
    "● Adolescente: mayor o igual que 12 años y menor que 18 años.\n",
    "● Adulto/a joven: mayor o igual que 18 años y menor que 30 años.\n",
    "● Adulto/a: mayor o igual que 30 años.\n",
    "\n"
   ]
  },
  {
   "cell_type": "code",
   "execution_count": null,
   "id": "3d3328ed",
   "metadata": {},
   "outputs": [],
   "source": [
    "edad = int(input(\"Ingresa tu edad: \"))\n",
    "\n",
    "if edad < 12:\n",
    "    print(\"Eres un niño/a\")\n",
    "elif edad >= 12 and edad < 18:\n",
    "    print(\"Eres un adolescente\")\n",
    "elif edad >= 18 and edad < 30:\n",
    "    print(\"Eres un adulto/a joven\")\n",
    "elif edad >= 30:\n",
    "    print(\"Eres un adulto/a\")"
   ]
  },
  {
   "cell_type": "markdown",
   "id": "77512ca9",
   "metadata": {},
   "source": [
    "#### **Actividad 5**\n",
    "\n",
    "Escribir un programa que permita introducir contraseñas de entre 8 y 14 caracteres\n",
    "(incluyendo 8 y 14). Si el usuario ingresa una contraseña de longitud adecuada, imprimir por en\n",
    "pantalla el mensaje \"Ha ingresado una contraseña correcta\"; en caso contrario, imprimir por\n",
    "pantalla \"Por favor, ingrese una contraseña de entre 8 y 14 caracteres\". Nota: investigue el uso\n",
    "de la función len() en Python para evaluar la cantidad de elementos que tiene un iterable tal\n",
    "como una lista o un string.\n"
   ]
  },
  {
   "cell_type": "code",
   "execution_count": null,
   "id": "c67bf85e",
   "metadata": {},
   "outputs": [],
   "source": [
    "contraseña = input(\"Ingresa una contraseña: \")\n",
    "\n",
    "if len(contraseña) >= 8 and len(contraseña) <= 14:\n",
    "    print(\"Ha ingresado una contraseña correcta\")\n",
    "else:\n",
    "    print(\"Por favor, ingrese una contraseña de entre 8 y 14 caracteres\")"
   ]
  },
  {
   "cell_type": "markdown",
   "id": "fe617d02",
   "metadata": {},
   "source": [
    "#### **Actividad 6**\n",
    "\n",
    " El paquete statistics de python contiene funciones que permiten tomar una lista de números\n",
    "y calcular la moda, la mediana y la media de dichos números. Un ejemplo de su uso es el\n",
    "siguiente:\n",
    "from statistics import mode, median, mean\n",
    "mi_lista = [1,2,5,5,3]\n",
    "mean(mi_lista)\n",
    "En la documentación oficial se puede encontrar más información sobre este paquete:\n",
    "https://docs.python.org/es/3.8/library/statistics.html.\n",
    "La moda (mode), la mediana (median) y la media (mean) son parámetros estadísticos que se\n",
    "pueden utilizar para predecir la forma de una distribución normal a partir del siguiente criterio:\n",
    "● Sesgo positivo o a la derecha: cuando la media es mayor que la mediana y, a su vez, la\n",
    "mediana es mayor que la moda.\n",
    "● Sesgo negativo o a la izquierda: cuando la media es menor que la mediana y, a su vez,\n",
    "la mediana es menor que la moda.\n",
    "● Sin sesgo: cuando la media, la mediana y la moda son iguales.\n",
    "Teniendo en cuenta lo antes mencionado, escribir un programa que tome la lista\n",
    "numeros_aleatorios, calcule su moda, su mediana y su media y las compare para determinar si\n",
    "hay sesgo positivo, negativo o no hay sesgo. Imprimir el resultado por pantalla.\n",
    "Definir la lista numeros_aleatorios de la siguiente forma:\n",
    "import random\n",
    "numeros_aleatorios = [random.randint(1, 100) for i in range(50)]\n",
    "Nota: el bloque de código anterior crea una lista con 50 números entre 1 y 100 elegidos de\n",
    "forma aleatoria.\n"
   ]
  },
  {
   "cell_type": "code",
   "execution_count": null,
   "id": "33b54a8f",
   "metadata": {},
   "outputs": [],
   "source": [
    "import random\n",
    "from statistics import mode, median, mean\n",
    "\n",
    "numeros_aleatorios = [random.randint(1, 100) for i in range(50)]\n",
    "\n",
    "media = mean(numeros_aleatorios)\n",
    "mediana = median(numeros_aleatorios)\n",
    "moda = mode(numeros_aleatorios)\n",
    "\n",
    "print(\"Media:\", media)\n",
    "print(\"Mediana:\", mediana)\n",
    "print(\"Moda:\", moda)\n",
    "\n",
    "if media > mediana > moda:\n",
    "    print(\"Sesgo positivo o a la derecha\")\n",
    "elif media < mediana < moda:\n",
    "    print(\"sesgo negativo o a la izquierda\")\n",
    "elif media == mediana == moda:\n",
    "    print(\"Sin sesgo\")\n",
    "else:\n",
    "    print(\"No se puede determinar\")\n",
    "\n"
   ]
  },
  {
   "cell_type": "markdown",
   "id": "5170543c",
   "metadata": {},
   "source": [
    "#### **Actividad 7**\n",
    "\n",
    "Escribir un programa que solicite una frase o palabra al usuario. Si el string ingresado\n",
    "termina con vocal, añadir un signo de exclamación al final e imprimir el string resultante por\n",
    "pantalla; en caso contrario, dejar el string tal cual lo ingresó el usuario e imprimirlo por\n",
    "pantalla.\n"
   ]
  },
  {
   "cell_type": "code",
   "execution_count": 98,
   "id": "c6b13e82",
   "metadata": {},
   "outputs": [
    {
     "name": "stdout",
     "output_type": "stream",
     "text": [
      "nice!\n"
     ]
    }
   ],
   "source": [
    "frase = input(\"Ingrese una frase\")\n",
    "vocales = \"aeiouAEIOU\"\n",
    "ultimo_caracter = frase[-1]\n",
    "\n",
    "if ultimo_caracter in vocales:\n",
    "    frase_modificada = frase + \"!\"\n",
    "    print(frase_modificada)\n",
    "else:\n",
    "    print(frase)"
   ]
  }
 ],
 "metadata": {
  "kernelspec": {
   "display_name": "Python 3",
   "language": "python",
   "name": "python3"
  },
  "language_info": {
   "codemirror_mode": {
    "name": "ipython",
    "version": 3
   },
   "file_extension": ".py",
   "mimetype": "text/x-python",
   "name": "python",
   "nbconvert_exporter": "python",
   "pygments_lexer": "ipython3",
   "version": "3.13.5"
  }
 },
 "nbformat": 4,
 "nbformat_minor": 5
}
