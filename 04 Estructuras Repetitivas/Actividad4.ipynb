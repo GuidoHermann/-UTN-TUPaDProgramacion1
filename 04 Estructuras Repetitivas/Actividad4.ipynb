{
 "cells": [
  {
   "cell_type": "markdown",
   "id": "8c2d9b4c",
   "metadata": {},
   "source": [
    "<h1 style=\"color:#004080; text-align:center;\">\n",
    "  TRABAJO PRÁCTICO N°4\n",
    "</h1>\n",
    "<h2 style=\"color:#0066cc; text-align:center;\">\n",
    "  Programación 1\n",
    "</h2>\n",
    "<h3 style=\"color:#555; text-align:center;\">\n",
    "  UTN Virtual\n",
    "</h3>\n",
    "<p style=\"text-align:center;\">\n",
    "  <strong>Guido Hermann Alzogaray</strong>\n",
    "</p>"
   ]
  },
  {
   "cell_type": "markdown",
   "id": "cc5cfef9",
   "metadata": {},
   "source": [
    "1) Crea un programa que imprima en pantalla todos los números enteros desde 0 hasta 100\n",
    "(incluyendo ambos extremos), en orden creciente, mostrando un número por línea."
   ]
  },
  {
   "cell_type": "code",
   "execution_count": null,
   "id": "e59378c2",
   "metadata": {},
   "outputs": [],
   "source": [
    "for i in range(101):\n",
    "    print(i)"
   ]
  },
  {
   "cell_type": "markdown",
   "id": "b5c3c0ad",
   "metadata": {},
   "source": [
    "2) Desarrolla un programa que solicite al usuario un número entero y determine la cantidad de\n",
    "dígitos que contiene."
   ]
  },
  {
   "cell_type": "code",
   "execution_count": null,
   "id": "6abff350",
   "metadata": {},
   "outputs": [],
   "source": [
    "numero = int(input(\"Ingresa un numero: \"))\n",
    "\n",
    "cantidad_digitos = len(str(numero))\n",
    "\n",
    "print(\"El numero tiene\", cantidad_digitos, \"digitos\")\n",
    "\n"
   ]
  },
  {
   "cell_type": "markdown",
   "id": "f4362b29",
   "metadata": {},
   "source": [
    "3) Escribe un programa que sume todos los números enteros comprendidos entre dos valores\n",
    "dados por el usuario, excluyendo esos dos valores."
   ]
  },
  {
   "cell_type": "code",
   "execution_count": null,
   "id": "e72426ea",
   "metadata": {},
   "outputs": [],
   "source": [
    "a = int(input(\"Ingrese un numero: \"))\n",
    "b = int(input(\"Ingrese otro numero: \"))\n",
    "\n",
    "if a > b:\n",
    "    a , b = b, a\n",
    "\n",
    "suma = 0\n",
    "\n",
    "for i in range (a + 1, b):\n",
    "    suma += i\n",
    "\n",
    "print(\"La suma los numeros entre \", a, \"y\", b,\"es: \", suma)\n",
    "\n",
    "\n"
   ]
  },
  {
   "cell_type": "markdown",
   "id": "69188084",
   "metadata": {},
   "source": [
    "4) Elabora un programa que permita al usuario ingresar números enteros y los sume en\n",
    "secuencia. El programa debe detenerse y mostrar el total acumulado cuando el usuario ingrese\n",
    "un 0."
   ]
  },
  {
   "cell_type": "code",
   "execution_count": null,
   "id": "e8feaa00",
   "metadata": {},
   "outputs": [],
   "source": [
    "total = 0\n",
    "\n",
    "while True:\n",
    "    numero = int(input(\"Ingresa un numero (0 para finalizar): \"))\n",
    "\n",
    "    if numero == 0:\n",
    "        break\n",
    "\n",
    "    total += numero\n",
    "\n",
    "print(\"La suma total es: \", total)"
   ]
  },
  {
   "cell_type": "markdown",
   "id": "e630ec41",
   "metadata": {},
   "source": [
    "5) Crea un juego en el que el usuario deba adivinar un número aleatorio entre 0 y 9. Al final, el\n",
    "programa debe mostrar cuántos intentos fueron necesarios para acertar el número."
   ]
  },
  {
   "cell_type": "code",
   "execution_count": null,
   "id": "b8a68877",
   "metadata": {},
   "outputs": [],
   "source": [
    "import random\n",
    "\n",
    "numero_secreto = random.randint(0, 9)\n",
    "\n",
    "intentos = 0\n",
    "\n",
    "while True:\n",
    "    intento = int(input(\"Adivina el numero (entre 0 y 9): \"))\n",
    "    intentos +=1 \n",
    "\n",
    "    if intento == numero_secreto:\n",
    "        print(\"Acertaste\")\n",
    "        break\n",
    "    else:\n",
    "        print(\"Incorrecto, intenta denuevo.\")\n",
    "\n",
    "print (\"Numero de intentos: \", intentos)"
   ]
  },
  {
   "cell_type": "markdown",
   "id": "64eb9bab",
   "metadata": {},
   "source": [
    "6) Desarrolla un programa que imprima en pantalla todos los números pares comprendidos\n",
    "entre 0 y 100, en orden decreciente.\n"
   ]
  },
  {
   "cell_type": "code",
   "execution_count": null,
   "id": "f54adee2",
   "metadata": {},
   "outputs": [],
   "source": [
    "for i in range(100, -1, -1):\n",
    "    if i % 2 == 0:\n",
    "        print (i)"
   ]
  },
  {
   "cell_type": "markdown",
   "id": "86dde13e",
   "metadata": {},
   "source": [
    "7) Crea un programa que calcule la suma de todos los números comprendidos entre 0 y un\n",
    "número entero positivo indicado por el usuario"
   ]
  },
  {
   "cell_type": "code",
   "execution_count": null,
   "id": "a6d9d363",
   "metadata": {},
   "outputs": [],
   "source": [
    "n = int(input(\"Ingresa un numero positivo: \"))\n",
    "sumapositiva = 0\n",
    "\n",
    "if n > 0:\n",
    "    for i in range(n + 1):\n",
    "        sumapositiva += i\n",
    "    print(\"La suma de los numeros de 0 a\", n, \"es:\", sumapositiva)\n",
    "else:\n",
    "    print(\"Solo numeros positivos\")"
   ]
  },
  {
   "cell_type": "markdown",
   "id": "ac5bcb2c",
   "metadata": {},
   "source": [
    "8) Escribe un programa que permita al usuario ingresar 100 números enteros. Luego, el\n",
    "programa debe indicar cuántos de estos números son pares, cuántos son impares, cuántos son\n",
    "negativos y cuántos son positivos. (Nota: para probar el programa puedes usar una cantidad\n",
    "menor, pero debe estar preparado para procesar 100 números con un solo cambio)."
   ]
  },
  {
   "cell_type": "code",
   "execution_count": null,
   "id": "aee92185",
   "metadata": {},
   "outputs": [],
   "source": [
    "total_numeros = 10\n",
    "pares = 0\n",
    "impares = 0\n",
    "positivos = 0\n",
    "negativos = 0\n",
    "\n",
    "for i in range(total_numeros):\n",
    "    numero = int(input(f\"Ingrese el numero {i+1}: \"))\n",
    "\n",
    "    if numero % 2 == 0:\n",
    "        pares += 1\n",
    "    else:\n",
    "        impares += 1\n",
    "    \n",
    "    if numero > 0:\n",
    "        positivos += 1\n",
    "    else:\n",
    "        negativos += 1\n",
    "\n",
    "print(\"Cantidad de numeros pares \", pares)\n",
    "print(\"Cantidad de numeros impares \", impares)\n",
    "print(\"Cantidad de numeros positivos \" ,positivos)\n",
    "print(\"Cantidad de numeros negativos \", negativos)"
   ]
  }
 ],
 "metadata": {
  "kernelspec": {
   "display_name": "Python 3",
   "language": "python",
   "name": "python3"
  },
  "language_info": {
   "codemirror_mode": {
    "name": "ipython",
    "version": 3
   },
   "file_extension": ".py",
   "mimetype": "text/x-python",
   "name": "python",
   "nbconvert_exporter": "python",
   "pygments_lexer": "ipython3",
   "version": "3.13.5"
  }
 },
 "nbformat": 4,
 "nbformat_minor": 5
}
